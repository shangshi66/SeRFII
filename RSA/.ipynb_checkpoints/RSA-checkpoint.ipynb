{
 "cells": [
  {
   "cell_type": "code",
   "execution_count": 123,
   "metadata": {},
   "outputs": [],
   "source": [
    "import rsa #padding in decrypted message starts with x0002 ends with x00\n",
    "(pubkey, privkey) = rsa.newkeys(1024) # ‘n’, ‘e’, ‘d’, ‘p’, ‘q’ "
   ]
  },
  {
   "cell_type": "code",
   "execution_count": 130,
   "metadata": {},
   "outputs": [],
   "source": [
    "message = 'asdfghjklHello world!'.encode('utf8')\n"
   ]
  },
  {
   "cell_type": "code",
   "execution_count": 131,
   "metadata": {},
   "outputs": [
    {
     "data": {
      "text/plain": [
       "b'asdfghjklHello world!'"
      ]
     },
     "execution_count": 131,
     "metadata": {},
     "output_type": "execute_result"
    }
   ],
   "source": [
    "crypto = rsa.encrypt(message, pubkey)\n",
    "m = rsa.decrypt(crypto, privkey)\n",
    "m"
   ]
  },
  {
   "cell_type": "code",
   "execution_count": 132,
   "metadata": {},
   "outputs": [
    {
     "data": {
      "text/plain": [
       "'6173646667686a6b6c48656c6c6f20776f726c6421'"
      ]
     },
     "execution_count": 132,
     "metadata": {},
     "output_type": "execute_result"
    }
   ],
   "source": [
    "message.hex()"
   ]
  },
  {
   "cell_type": "code",
   "execution_count": 133,
   "metadata": {},
   "outputs": [
    {
     "data": {
      "text/plain": [
       "'0212f43dbbbfabb5190a723a964c4aaf29ad37687d827982db10e30bfe9b1d17e7c40e69a06648822be5d0f192d89795f4dd0590a35e1b7449fa4ab2196f6abb7804f1dbaa7de19e9aef8992fefded09d7baaf459058e4e4d49a95955797f4e34aff02ac33c7b582aa1fc9fa772d8ee9ed115dfa6da73e2ed1a5d5fad029767a'"
      ]
     },
     "execution_count": 133,
     "metadata": {},
     "output_type": "execute_result"
    }
   ],
   "source": [
    "crypto.hex()"
   ]
  },
  {
   "cell_type": "code",
   "execution_count": 128,
   "metadata": {},
   "outputs": [
    {
     "data": {
      "text/plain": [
       "'0xbe0c246c5aaa8fa3673e7424aadaf367cc62b2f3b03fa82bb0bfae291efe370615c2be2871b9a45035491163c5b4f9000fcc965073bd98513132347e5e54f92370c2e829e27e57be6a1af3e31d5eecfbeeb71f5c946f83d800a3b6348ff229a6ceef75c3b367cf13ff9a39c3ecbf194ede5ca99b63df2a778cc4f31baed2f5c7'"
      ]
     },
     "execution_count": 128,
     "metadata": {},
     "output_type": "execute_result"
    }
   ],
   "source": [
    "hex(privkey.n)"
   ]
  },
  {
   "cell_type": "code",
   "execution_count": 129,
   "metadata": {},
   "outputs": [
    {
     "data": {
      "text/plain": [
       "'0x910ab14da4d0a13943556dcc823d022148e256d316c32e74d1bb288f27a13a9b4146545c8796f7e9631175dd2089a2b3c25b10a92bfc19e0755c6ca513089e89376598a67d268d08d0d8b133367687c5224d8819effdb22884e16a97797c75b5142cd2c304c1c6647f1497fa15aec8b608616c5a706e21e68f6d9637c0669dc9'"
      ]
     },
     "execution_count": 129,
     "metadata": {},
     "output_type": "execute_result"
    }
   ],
   "source": [
    "hex(privkey.d)"
   ]
  },
  {
   "cell_type": "code",
   "execution_count": 122,
   "metadata": {},
   "outputs": [
    {
     "data": {
      "text/plain": [
       "b'\\x00\\x02\\xdf\\x99B\\xcaIb5v|n\\xe4\\xceM]\\xf4\\x8b\\xb7\\x86\\xd2q\\x1e\\xe0\\xe97\\x0e\\x03\\xe9\\xa4-`\\xd9/\\xd5\\xa1\\xfa\\xc6<\\xec\\x88A\\xcc\\x16\\xcf\\xdf\\xabM\\xe3\\x13\\xb8\\xa6\\x9b\\xa7\\xbcq\\x19\\xa5Vh\\x13\\xd9]^\\xc3\\xfb\\xc2_\\\\\\xf2\\xb0\\x7f\\x13\\xd3_\\x05\\xf8>\\xd4F\\xdb\\x9d\\x966|\\x90\\x0e\\xd1\\xd39<\\xdb.\\xae\\x133\\xa2\\x9c\\xde\\x87\\x94X\\xf4jb\\xa1@}\\x0f\\x89B\\x04\\x10<\\x04\\x00Hello world!'"
      ]
     },
     "execution_count": 122,
     "metadata": {},
     "output_type": "execute_result"
    }
   ],
   "source": [
    "bytes.fromhex('0002df9942ca496235767c6ee4ce4d5df48bb786d2711ee0e9370e03e9a42d60d92fd5a1fac63cec8841cc16cfdfab4de313b8a69ba7bc7119a5566813d95d5ec3fbc25f5cf2b07f13d35f05f83ed446db9d96367c900ed1d3393cdb2eae1333a29cde879458f46a62a1407d0f894204103c040048656c6c6f20776f726c6421')"
   ]
  },
  {
   "cell_type": "code",
   "execution_count": 134,
   "metadata": {},
   "outputs": [
    {
     "data": {
      "text/plain": [
       "b'\\x00\\x028`\\xb4\\xdb\\x03o4u\\xb3\\x96VV\\x9b~\\x19\\xa5\\xb8\\xf7\\xf7\\xe6|\\xf9\\x81\\xe9D\\xab\\xc9>A\\x0f\\x17H!\\xf4\\xdf\\x16\\t\"\\x02#\\xd6g\\xdf\\xe0\\xa0!\\x96\\x97\\x14m!\\xb6Qn\\x12X|\\x8f\\xe0\\xe7ry\\xea\\xd4ze\\x93B\\xb8\\xda+\\x85Y\\xaedb\\x94\\xd9\\x17;\\x8ck\\x87`\\x8c\\xe3\\xd6\\xe5/\\x97>\\xa3\\xfd04h\\xb93d\\xbe\\xfa\\xbdq<7\\x99\\xca\\x08\\xd9\\x14\\xc3\\xc6\\x9f\\x00Hello world!'"
      ]
     },
     "execution_count": 134,
     "metadata": {},
     "output_type": "execute_result"
    }
   ],
   "source": [
    "bytes.fromhex('00023860b4db036f3475b39656569b7e19a5b8f7f7e67cf981e944abc93e410f174821f4df1609220223d667dfe0a0219697146d21b6516e12587c8fe0e77279ead47a659342b8da2b8559ae646294d9173b8c6b87608ce3d6e52f973ea3fd303468b93364befabd713c3799ca08d914c3c69f0048656c6c6f20776f726c6421')"
   ]
  },
  {
   "cell_type": "code",
   "execution_count": 135,
   "metadata": {},
   "outputs": [
    {
     "data": {
      "text/plain": [
       "b'\\x00\\x02\\xe5\\x0fg\\x1e\\xcf\\xc6\\xb4\\xe2J,J\\xadq\\x9a\\x80Y;\\xdb\\xcd\\xeb!\\x87\\x8bBs\\xc7\\xd6\\xa0{t\\xba\\xc8\\xd9[Ej\\xa8\\xe5D\\x17FV\\x1a0\\xedB\\xee\\xd9\\xe8\\xdfc\\xb9\\xbd\\xc5\\xf1\\x1eMr\\xf3\\x9d\\xc8lV\\xe2!\\x9d<o\\xed\\xe6\\x96P\\x1f\\xaa\\xb6\\x9e\\r\\x8dM\\x0b`\\x86\\xfb\\xc6\\xad\\x19\\x89\\\\\\xba\\xc5\\x1f\\xc9\\x15\\x82\\xb0\\xc4\\x86Q8\\xda\\xe8x+\\xba\\x00asdfghjklHello world!'"
      ]
     },
     "execution_count": 135,
     "metadata": {},
     "output_type": "execute_result"
    }
   ],
   "source": [
    "bytes.fromhex('0002e50f671ecfc6b4e24a2c4aad719a80593bdbcdeb21878b4273c7d6a07b74bac8d95b456aa8e5441746561a30ed42eed9e8df63b9bdc5f11e4d72f39dc86c56e2219d3c6fede696501faab69e0d8d4d0b6086fbc6ad19895cbac51fc91582b0c4865138dae8782bba006173646667686a6b6c48656c6c6f20776f726c6421')"
   ]
  },
  {
   "cell_type": "code",
   "execution_count": null,
   "metadata": {},
   "outputs": [],
   "source": []
  }
 ],
 "metadata": {
  "kernelspec": {
   "display_name": "Python 3",
   "language": "python",
   "name": "python3"
  },
  "language_info": {
   "codemirror_mode": {
    "name": "ipython",
    "version": 3
   },
   "file_extension": ".py",
   "mimetype": "text/x-python",
   "name": "python",
   "nbconvert_exporter": "python",
   "pygments_lexer": "ipython3",
   "version": "3.8.5"
  }
 },
 "nbformat": 4,
 "nbformat_minor": 4
}
