{
 "cells": [
  {
   "cell_type": "code",
   "execution_count": 23,
   "metadata": {},
   "outputs": [],
   "source": [
    "import rsa #padding in decrypted message starts with x0002 ends with x00\n",
    "(pubkey, privkey) = rsa.newkeys(1024) # ‘n’, ‘e’, ‘d’, ‘p’, ‘q’ "
   ]
  },
  {
   "cell_type": "code",
   "execution_count": 24,
   "metadata": {},
   "outputs": [],
   "source": [
    "message = 'Hello'.encode('utf8')\n"
   ]
  },
  {
   "cell_type": "code",
   "execution_count": 25,
   "metadata": {},
   "outputs": [
    {
     "data": {
      "text/plain": [
       "b'Hello'"
      ]
     },
     "execution_count": 25,
     "metadata": {},
     "output_type": "execute_result"
    }
   ],
   "source": [
    "crypto = rsa.encrypt(message, pubkey)\n",
    "m = rsa.decrypt(crypto, privkey)\n",
    "m"
   ]
  },
  {
   "cell_type": "code",
   "execution_count": 26,
   "metadata": {},
   "outputs": [
    {
     "data": {
      "text/plain": [
       "'48656c6c6f'"
      ]
     },
     "execution_count": 26,
     "metadata": {},
     "output_type": "execute_result"
    }
   ],
   "source": [
    "message.hex()"
   ]
  },
  {
   "cell_type": "code",
   "execution_count": 27,
   "metadata": {},
   "outputs": [
    {
     "data": {
      "text/plain": [
       "'2e9088957d3d8a385f7a81b5386307eb5668697e8bac31b1985bd14067e663a556eeb488d51ec97e35e607649028c983f555dddd7b6bb23854189b3815760a574d805e9a4c5e143d0135c52e70df4241af85cc3443810249cb41f87581e73fc8e68812d7951ca1032cbe34259b5fe3c897e4b9e9f222ac62bfdc87f3d8a2b62a'"
      ]
     },
     "execution_count": 27,
     "metadata": {},
     "output_type": "execute_result"
    }
   ],
   "source": [
    "crypto.hex()"
   ]
  },
  {
   "cell_type": "code",
   "execution_count": 28,
   "metadata": {},
   "outputs": [
    {
     "data": {
      "text/plain": [
       "'0x99e3d20a81a0d41c6abdb34b0aa84f76e05c1b4caf96297a38d2f144dd919182cb75e177dec2a0f28f080e405d5db9b111210bd08b738b91f198e460e7b73b7718ed1aaf3371a320308568d36a022210fe51bf79ccb87a68466b00077795c83a9aa295b4a178ffcd0d0145b435d42904af11d0917363ed3a20ddb34e8d1989cd'"
      ]
     },
     "execution_count": 28,
     "metadata": {},
     "output_type": "execute_result"
    }
   ],
   "source": [
    "hex(privkey.n)"
   ]
  },
  {
   "cell_type": "code",
   "execution_count": 29,
   "metadata": {},
   "outputs": [
    {
     "data": {
      "text/plain": [
       "'0x65212e1af16cfb77613e20e123b3cfe4d334344c84e72d82c06cff58be32b76938c3d2d3af743fc8a6ee284f6c0bf7c7c0f5f289addad4d1a7ef4dc55af8919f00b56de47609a8d67d0fe504e564d30f8588c5a461a05b93858eea110ac5152cb29e37a0c5076e41d1097412d91e9ecc15feba329e8c68155130d4ada3e87591'"
      ]
     },
     "execution_count": 29,
     "metadata": {},
     "output_type": "execute_result"
    }
   ],
   "source": [
    "hex(privkey.d)"
   ]
  },
  {
   "cell_type": "code",
   "execution_count": 30,
   "metadata": {},
   "outputs": [
    {
     "data": {
      "text/plain": [
       "b'\\x00\\x02\\xdf\\x99B\\xcaIb5v|n\\xe4\\xceM]\\xf4\\x8b\\xb7\\x86\\xd2q\\x1e\\xe0\\xe97\\x0e\\x03\\xe9\\xa4-`\\xd9/\\xd5\\xa1\\xfa\\xc6<\\xec\\x88A\\xcc\\x16\\xcf\\xdf\\xabM\\xe3\\x13\\xb8\\xa6\\x9b\\xa7\\xbcq\\x19\\xa5Vh\\x13\\xd9]^\\xc3\\xfb\\xc2_\\\\\\xf2\\xb0\\x7f\\x13\\xd3_\\x05\\xf8>\\xd4F\\xdb\\x9d\\x966|\\x90\\x0e\\xd1\\xd39<\\xdb.\\xae\\x133\\xa2\\x9c\\xde\\x87\\x94X\\xf4jb\\xa1@}\\x0f\\x89B\\x04\\x10<\\x04\\x00Hello world!'"
      ]
     },
     "execution_count": 30,
     "metadata": {},
     "output_type": "execute_result"
    }
   ],
   "source": [
    "bytes.fromhex('0002df9942ca496235767c6ee4ce4d5df48bb786d2711ee0e9370e03e9a42d60d92fd5a1fac63cec8841cc16cfdfab4de313b8a69ba7bc7119a5566813d95d5ec3fbc25f5cf2b07f13d35f05f83ed446db9d96367c900ed1d3393cdb2eae1333a29cde879458f46a62a1407d0f894204103c040048656c6c6f20776f726c6421')"
   ]
  },
  {
   "cell_type": "code",
   "execution_count": 31,
   "metadata": {},
   "outputs": [
    {
     "data": {
      "text/plain": [
       "b'\\x00\\x028`\\xb4\\xdb\\x03o4u\\xb3\\x96VV\\x9b~\\x19\\xa5\\xb8\\xf7\\xf7\\xe6|\\xf9\\x81\\xe9D\\xab\\xc9>A\\x0f\\x17H!\\xf4\\xdf\\x16\\t\"\\x02#\\xd6g\\xdf\\xe0\\xa0!\\x96\\x97\\x14m!\\xb6Qn\\x12X|\\x8f\\xe0\\xe7ry\\xea\\xd4ze\\x93B\\xb8\\xda+\\x85Y\\xaedb\\x94\\xd9\\x17;\\x8ck\\x87`\\x8c\\xe3\\xd6\\xe5/\\x97>\\xa3\\xfd04h\\xb93d\\xbe\\xfa\\xbdq<7\\x99\\xca\\x08\\xd9\\x14\\xc3\\xc6\\x9f\\x00Hello world!'"
      ]
     },
     "execution_count": 31,
     "metadata": {},
     "output_type": "execute_result"
    }
   ],
   "source": [
    "bytes.fromhex('00023860b4db036f3475b39656569b7e19a5b8f7f7e67cf981e944abc93e410f174821f4df1609220223d667dfe0a0219697146d21b6516e12587c8fe0e77279ead47a659342b8da2b8559ae646294d9173b8c6b87608ce3d6e52f973ea3fd303468b93364befabd713c3799ca08d914c3c69f0048656c6c6f20776f726c6421')"
   ]
  },
  {
   "cell_type": "code",
   "execution_count": 32,
   "metadata": {},
   "outputs": [
    {
     "data": {
      "text/plain": [
       "b'\\x00\\x02\\xe5\\x0fg\\x1e\\xcf\\xc6\\xb4\\xe2J,J\\xadq\\x9a\\x80Y;\\xdb\\xcd\\xeb!\\x87\\x8bBs\\xc7\\xd6\\xa0{t\\xba\\xc8\\xd9[Ej\\xa8\\xe5D\\x17FV\\x1a0\\xedB\\xee\\xd9\\xe8\\xdfc\\xb9\\xbd\\xc5\\xf1\\x1eMr\\xf3\\x9d\\xc8lV\\xe2!\\x9d<o\\xed\\xe6\\x96P\\x1f\\xaa\\xb6\\x9e\\r\\x8dM\\x0b`\\x86\\xfb\\xc6\\xad\\x19\\x89\\\\\\xba\\xc5\\x1f\\xc9\\x15\\x82\\xb0\\xc4\\x86Q8\\xda\\xe8x+\\xba\\x00asdfghjklHello world!'"
      ]
     },
     "execution_count": 32,
     "metadata": {},
     "output_type": "execute_result"
    }
   ],
   "source": [
    "bytes.fromhex('0002e50f671ecfc6b4e24a2c4aad719a80593bdbcdeb21878b4273c7d6a07b74bac8d95b456aa8e5441746561a30ed42eed9e8df63b9bdc5f11e4d72f39dc86c56e2219d3c6fede696501faab69e0d8d4d0b6086fbc6ad19895cbac51fc91582b0c4865138dae8782bba006173646667686a6b6c48656c6c6f20776f726c6421')"
   ]
  },
  {
   "cell_type": "code",
   "execution_count": null,
   "metadata": {},
   "outputs": [],
   "source": []
  },
  {
   "cell_type": "code",
   "execution_count": null,
   "metadata": {},
   "outputs": [],
   "source": []
  }
 ],
 "metadata": {
  "kernelspec": {
   "display_name": "Python 3",
   "language": "python",
   "name": "python3"
  },
  "language_info": {
   "codemirror_mode": {
    "name": "ipython",
    "version": 3
   },
   "file_extension": ".py",
   "mimetype": "text/x-python",
   "name": "python",
   "nbconvert_exporter": "python",
   "pygments_lexer": "ipython3",
   "version": "3.8.5"
  }
 },
 "nbformat": 4,
 "nbformat_minor": 4
}
