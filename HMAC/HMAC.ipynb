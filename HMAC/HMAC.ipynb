{
 "cells": [
  {
   "cell_type": "code",
   "execution_count": 1,
   "metadata": {},
   "outputs": [
    {
     "data": {
      "text/plain": [
       "'62cfa93b3fc379307e2dd19ad2760f09124a23547a2c87b2aecc996735d4f0ac'"
      ]
     },
     "execution_count": 1,
     "metadata": {},
     "output_type": "execute_result"
    }
   ],
   "source": [
    "import hashlib\n",
    "opad = '5c5c5c5c5c5c5c5c5c5c5c5c5c5c5c5c5c5c5c5c5c5c5c5c5c5c5c5c5c5c5c5c'\n",
    "ipad = '3636363636363636363636363636363636363636363636363636363636363636'\n",
    "key = 'BA7816BF8F01CFEA414140DE5DAE2223B00361A396177A9CB410FF61F20015AD'\n",
    "message = '93285BA783E78F920458AB82C346D9F0293877CBCAE32950683957BACEDF9EA7'\n",
    "ikey = hex(int(key,16) ^ int(ipad,16))[2:]\n",
    "okey = hex(int(key,16) ^ int(opad,16))[2:]\n",
    "block = ikey + message\n",
    "b = bytes.fromhex(block)\n",
    "temp = hashlib.sha256(b).hexdigest()\n",
    "block = okey + temp\n",
    "b = bytes.fromhex(block)\n",
    "result = hashlib.sha256(b).hexdigest()\n",
    "result"
   ]
  },
  {
   "cell_type": "code",
   "execution_count": null,
   "metadata": {},
   "outputs": [],
   "source": []
  }
 ],
 "metadata": {
  "kernelspec": {
   "display_name": "Python 3",
   "language": "python",
   "name": "python3"
  },
  "language_info": {
   "codemirror_mode": {
    "name": "ipython",
    "version": 3
   },
   "file_extension": ".py",
   "mimetype": "text/x-python",
   "name": "python",
   "nbconvert_exporter": "python",
   "pygments_lexer": "ipython3",
   "version": "3.8.5"
  }
 },
 "nbformat": 4,
 "nbformat_minor": 4
}
