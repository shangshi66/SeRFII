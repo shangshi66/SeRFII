{
 "cells": [
  {
   "cell_type": "code",
   "execution_count": 40,
   "metadata": {},
   "outputs": [],
   "source": [
    "import rsa \n",
    "\n",
    "def RSA_EN(b,message):\n",
    "    (pubkey, privkey) = rsa.newkeys(b) # ‘n’, ‘e’, ‘d’, ‘p’, ‘q’ \n",
    "    m = bytes.fromhex(message)\n",
    "    crypto = rsa.encrypt(m, pubkey)\n",
    "    return pubkey, privkey, crypto.hex()\n",
    "def RSA_DE(crypto,privkey):\n",
    "    c = bytes.fromhex(crypto)\n",
    "    m = rsa.decrypt(c,privkey)\n",
    "    return m.hex()\n"
   ]
  },
  {
   "cell_type": "code",
   "execution_count": 41,
   "metadata": {},
   "outputs": [],
   "source": [
    "import hashlib\n",
    "\n",
    "def HMAC_SHA256(key,message):\n",
    "    opad = '5c5c5c5c5c5c5c5c5c5c5c5c5c5c5c5c5c5c5c5c5c5c5c5c5c5c5c5c5c5c5c5c'\n",
    "    ipad = '3636363636363636363636363636363636363636363636363636363636363636'\n",
    "    ikey = hex(int(key,16) ^ int(ipad,16))[2:]\n",
    "    okey = hex(int(key,16) ^ int(opad,16))[2:]\n",
    "    block = ikey + message\n",
    "    b = bytes.fromhex(block)\n",
    "    temp = hashlib.sha256(b).hexdigest()\n",
    "    block = okey + temp\n",
    "    b = bytes.fromhex(block)\n",
    "    result = hashlib.sha256(b).hexdigest()\n",
    "    return result"
   ]
  },
  {
   "cell_type": "code",
   "execution_count": 42,
   "metadata": {},
   "outputs": [
    {
     "data": {
      "text/plain": [
       "'39dfee'"
      ]
     },
     "execution_count": 42,
     "metadata": {},
     "output_type": "execute_result"
    }
   ],
   "source": [
    "#test case for RSA\n",
    "pbk, pvk, c = RSA_EN(1024, '39dfee')\n",
    "m = RSA_DE(c, pvk)\n",
    "m"
   ]
  },
  {
   "cell_type": "code",
   "execution_count": 43,
   "metadata": {},
   "outputs": [
    {
     "data": {
      "text/plain": [
       "'62cfa93b3fc379307e2dd19ad2760f09124a23547a2c87b2aecc996735d4f0ac'"
      ]
     },
     "execution_count": 43,
     "metadata": {},
     "output_type": "execute_result"
    }
   ],
   "source": [
    "#test case for HMAC\n",
    "key = 'BA7816BF8F01CFEA414140DE5DAE2223B00361A396177A9CB410FF61F20015AD'\n",
    "message = '93285BA783E78F920458AB82C346D9F0293877CBCAE32950683957BACEDF9EA7'\n",
    "r = HMAC_SHA256(key, message)\n",
    "r"
   ]
  },
  {
   "cell_type": "code",
   "execution_count": null,
   "metadata": {},
   "outputs": [],
   "source": []
  }
 ],
 "metadata": {
  "kernelspec": {
   "display_name": "Python 3",
   "language": "python",
   "name": "python3"
  },
  "language_info": {
   "codemirror_mode": {
    "name": "ipython",
    "version": 3
   },
   "file_extension": ".py",
   "mimetype": "text/x-python",
   "name": "python",
   "nbconvert_exporter": "python",
   "pygments_lexer": "ipython3",
   "version": "3.8.5"
  }
 },
 "nbformat": 4,
 "nbformat_minor": 4
}
